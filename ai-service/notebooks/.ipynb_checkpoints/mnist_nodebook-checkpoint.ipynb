{
 "cells": [
  {
   "cell_type": "code",
   "execution_count": 4,
   "id": "193cc443-b6f5-4f9e-88cd-44070c948c76",
   "metadata": {},
   "outputs": [],
   "source": [
    "import numpy as np\n",
    "import matplotlib.pyplot as plt\n",
    "from PIL import Image\n",
    "import math"
   ]
  },
  {
   "cell_type": "code",
   "execution_count": 5,
   "id": "b6f26a87-d352-4ac7-aa5e-36d86ad0985c",
   "metadata": {},
   "outputs": [],
   "source": [
    "def read_data():\n",
    "    with np.load(\"../mnist.npz\") as f:\n",
    "        x, y = f[\"x_train\"], f[\"y_train\"]\n",
    "        x = x.astype(\"float32\")/255\n",
    "        x = np.reshape(\n",
    "            x,\n",
    "            (x.shape[0], x.shape[1] * x.shape[2]),\n",
    "        )\n",
    "        y = np.eye(10)[y]\n",
    "        return x, y"
   ]
  },
  {
   "cell_type": "code",
   "execution_count": 6,
   "id": "6f913654-1330-400d-b1de-c10f3d197c01",
   "metadata": {},
   "outputs": [
    {
     "data": {
      "text/plain": [
       "(array([[0., 0., 0., ..., 0., 0., 0.],\n",
       "        [0., 0., 0., ..., 0., 0., 0.],\n",
       "        [0., 0., 0., ..., 0., 0., 0.],\n",
       "        ...,\n",
       "        [0., 0., 0., ..., 0., 0., 0.],\n",
       "        [0., 0., 0., ..., 0., 0., 0.],\n",
       "        [0., 0., 0., ..., 0., 0., 0.]], dtype=float32),\n",
       " array([[0., 0., 0., ..., 0., 0., 0.],\n",
       "        [1., 0., 0., ..., 0., 0., 0.],\n",
       "        [0., 0., 0., ..., 0., 0., 0.],\n",
       "        ...,\n",
       "        [0., 0., 0., ..., 0., 0., 0.],\n",
       "        [0., 0., 0., ..., 0., 0., 0.],\n",
       "        [0., 0., 0., ..., 0., 1., 0.]]))"
      ]
     },
     "execution_count": 6,
     "metadata": {},
     "output_type": "execute_result"
    }
   ],
   "source": [
    "read_data()"
   ]
  },
  {
   "cell_type": "code",
   "execution_count": 7,
   "id": "f23629d8-c5de-47dc-baed-e2e9ece56e9e",
   "metadata": {},
   "outputs": [],
   "source": [
    "def sigmoid(x):\n",
    "    return 1 / (1 + np.exp(-x))"
   ]
  },
  {
   "cell_type": "code",
   "execution_count": 8,
   "id": "f4e8bfd3-bd62-4d3e-a781-b76d48a63387",
   "metadata": {},
   "outputs": [],
   "source": [
    "with np.load(\"../mnist.npz\") as f:\n",
    "        x_train, y_train = f[\"x_train\"], f[\"y_train\"]\n",
    "        x_train = x_train.astype(\"float32\")/255\n",
    "        x_train = np.reshape(\n",
    "            x_train,\n",
    "            (x_train.shape[0], x_train.shape[1] * x_train.shape[2]),\n",
    "        )\n",
    "        y_train = np.eye(10)[y_train]"
   ]
  },
  {
   "cell_type": "code",
   "execution_count": 9,
   "id": "be456100-28ca-489d-a1e3-582e29501a9a",
   "metadata": {},
   "outputs": [],
   "source": [
    "# x_train, y_train = read_data()\n",
    "epochs = 5\n",
    "learning_rate = 0.01\n",
    "nr_correct = 0"
   ]
  },
  {
   "cell_type": "code",
   "execution_count": 10,
   "id": "b57ae90f-210a-4d6b-a8a9-b0730a7c28cb",
   "metadata": {},
   "outputs": [],
   "source": [
    "w1 = np.random.uniform(-0.5, 0.5, (20, 784))\n",
    "w2 = np.random.uniform(-0.5, 0.5, (10, 20))\n",
    "b1 = np.random.rand(20, 1)\n",
    "b2 = np.random.rand(10, 1)"
   ]
  },
  {
   "cell_type": "code",
   "execution_count": 11,
   "id": "99e5ebf9-53ce-4938-ad16-93f7f5f93a0e",
   "metadata": {},
   "outputs": [],
   "source": [
    "def forward_prop(x):\n",
    "    z1 = w1.dot(x) + b1\n",
    "    h = sigmoid(z1)\n",
    "    z2 = w2.dot(h) + b2\n",
    "    o = sigmoid(z2)\n",
    "\n",
    "    return np.argmax(o), round(float(o[np.argmax(o)]), 3)"
   ]
  },
  {
   "cell_type": "code",
   "execution_count": 42,
   "id": "093c69c0-6d57-4ff9-a7f5-a98e8328faec",
   "metadata": {},
   "outputs": [
    {
     "name": "stdout",
     "output_type": "stream",
     "text": [
      "Epoch 0 Training Acc: 94.39%\n",
      "Epoch 1 Training Acc: 94.5%\n",
      "Epoch 2 Training Acc: 94.66%\n",
      "Epoch 3 Training Acc: 94.83%\n",
      "Epoch 4 Training Acc: 94.95%\n"
     ]
    }
   ],
   "source": [
    "'''train'''\n",
    "\n",
    "for epoch in range(epochs):\n",
    "    for x, y in zip(x_train, y_train):\n",
    "        x.shape += (1,)\n",
    "        y.shape += (1,)\n",
    "        \n",
    "        z1 = w1.dot(x) + b1\n",
    "        h = sigmoid(z1)\n",
    "        z2 = w2.dot(h) + b2\n",
    "        o = sigmoid(z2)\n",
    "        \n",
    "        err = np.mean((o - y)**2)\n",
    "        nr_correct += int(np.argmax(o) == np.argmax(y))\n",
    "        \n",
    "        _err = 2 * (o - y)\n",
    "        _sig_o = o * (1 - o)\n",
    "        _wei = h\n",
    "        \n",
    "        loss_o_w = np.dot((_err * _sig_o), np.transpose(h))\n",
    "        loss_o_b = _err * _sig_o\n",
    "        \n",
    "        w2 -= learning_rate * loss_o_w\n",
    "        b2 -= learning_rate * loss_o_b\n",
    "        \n",
    "        _sig_h = h * (1-h)\n",
    "        loss_h_w = np.dot(np.transpose(w2).dot(_err * _sig_o) * _sig_h, np.transpose(x))\n",
    "        loss_h_b = np.transpose(w2).dot(_err * _sig_o) * _sig_h\n",
    "        \n",
    "        w1 -= learning_rate * loss_h_w\n",
    "        b1 -= learning_rate * loss_h_b\n",
    "        \n",
    "    print(f\"Epoch {epoch} Training Acc: {round((nr_correct / x_train.shape[0]) * 100, 2)}%\")\n",
    "    nr_correct = 0"
   ]
  },
  {
   "cell_type": "code",
   "execution_count": 13,
   "id": "e098ae31-ca0b-40af-b16c-ce2529f52387",
   "metadata": {},
   "outputs": [],
   "source": [
    "k = x_train[4]\n",
    "k.shape += (1,)"
   ]
  },
  {
   "cell_type": "code",
   "execution_count": 14,
   "id": "e1539d14-d879-4a79-9ff8-07421c26a333",
   "metadata": {},
   "outputs": [],
   "source": [
    "def gen_image(arr):\n",
    "    two_d = (np.reshape(arr, (28, 28)) * 255).astype(np.uint8)\n",
    "    plt.imshow(two_d, interpolation='nearest')\n",
    "    return plt"
   ]
  },
  {
   "cell_type": "code",
   "execution_count": 15,
   "id": "2c8d39f0-44d5-4987-8e97-f5928e2998b5",
   "metadata": {},
   "outputs": [],
   "source": [
    "def open_image(path):\n",
    "    im = Image.open(path)\n",
    "    pix_val = list(im.getdata())\n",
    "    pix_val = [math.ceil((i+j+k)/3) for (i, j, k) in pix_val]\n",
    "    x = np.matrix(pix_val).reshape(784,1)\n",
    "    x = x.astype(\"float32\") / 255\n",
    "    \n",
    "    return x"
   ]
  },
  {
   "cell_type": "code",
   "execution_count": 16,
   "id": "a629bbae-5595-4ad1-8bfd-4f5216a1ca17",
   "metadata": {},
   "outputs": [],
   "source": [
    "t = open_image(\"../images/8.png\")\n",
    "t = t.reshape(784,1)"
   ]
  },
  {
   "cell_type": "code",
   "execution_count": 17,
   "id": "5dbce9c9-b775-43e8-8ae7-4819fe9b98e5",
   "metadata": {},
   "outputs": [
    {
     "data": {
      "text/plain": [
       "<module 'matplotlib.pyplot' from '/home/anupam/work/playground/web/image-classifier/ai-service/libs/lib/python3.10/site-packages/matplotlib/pyplot.py'>"
      ]
     },
     "execution_count": 17,
     "metadata": {},
     "output_type": "execute_result"
    },
    {
     "data": {
      "image/png": "[encoded data removed]",
      "text/plain": [
       "<Figure size 640x480 with 1 Axes>"
      ]
     },
     "metadata": {},
     "output_type": "display_data"
    }
   ],
   "source": [
    "gen_image(k)"
   ]
  },
  {
   "cell_type": "code",
   "execution_count": 18,
   "id": "a414b708-bb66-4328-be54-dda7bbda3aca",
   "metadata": {},
   "outputs": [
    {
     "data": {
      "text/plain": [
       "<module 'matplotlib.pyplot' from '/home/anupam/work/playground/web/image-classifier/ai-service/libs/lib/python3.10/site-packages/matplotlib/pyplot.py'>"
      ]
     },
     "execution_count": 18,
     "metadata": {},
     "output_type": "execute_result"
    },
    {
     "data": {
      "image/png": "[encoded data removed]",
      "text/plain": [
       "<Figure size 640x480 with 1 Axes>"
      ]
     },
     "metadata": {},
     "output_type": "display_data"
    }
   ],
   "source": [
    "gen_image(t)"
   ]
  },
  {
   "cell_type": "code",
   "execution_count": 45,
   "id": "c706de92-3e48-4007-83b0-6dffa0033de4",
   "metadata": {},
   "outputs": [
    {
     "data": {
      "text/plain": [
       "(8, 0.51)"
      ]
     },
     "execution_count": 45,
     "metadata": {},
     "output_type": "execute_result"
    }
   ],
   "source": [
    "forward_prop(t)"
   ]
  },
  {
   "cell_type": "code",
   "execution_count": 39,
   "id": "cdb87c8c-2422-4049-b82a-cb826710a14e",
   "metadata": {},
   "outputs": [
    {
     "data": {
      "text/plain": [
       "<module 'matplotlib.pyplot' from '/home/anupam/work/playground/web/image-classifier/ai-service/libs/lib/python3.10/site-packages/matplotlib/pyplot.py'>"
      ]
     },
     "execution_count": 39,
     "metadata": {},
     "output_type": "execute_result"
    },
    {
     "data": {
      "image/png": "[encoded data removed]",
      "text/plain": [
       "<Figure size 640x480 with 1 Axes>"
      ]
     },
     "metadata": {},
     "output_type": "display_data"
    }
   ],
   "source": [
    "t2 = open_image(\"../images/5.png\")\n",
    "t2 = t2.reshape(784,1)\n",
    "gen_image(t2)"
   ]
  },
  {
   "cell_type": "code",
   "execution_count": 43,
   "id": "3b01607b-60e0-49bd-83b8-78d214d4fa4e",
   "metadata": {},
   "outputs": [
    {
     "data": {
      "text/plain": [
       "(7, 0.743)"
      ]
     },
     "execution_count": 43,
     "metadata": {},
     "output_type": "execute_result"
    }
   ],
   "source": [
    "forward_prop(t2)"
   ]
  },
  {
   "cell_type": "code",
   "execution_count": null,
   "id": "879f0f32-9a20-493f-bcdc-b46838e98115",
   "metadata": {},
   "outputs": [],
   "source": []
  }
 ],
 "metadata": {
  "kernelspec": {
   "display_name": "Python 3 (ipykernel)",
   "language": "python",
   "name": "python3"
  },
  "language_info": {
   "codemirror_mode": {
    "name": "ipython",
    "version": 3
   },
   "file_extension": ".py",
   "mimetype": "text/x-python",
   "name": "python",
   "nbconvert_exporter": "python",
   "pygments_lexer": "ipython3",
   "version": "3.10.8"
  }
 },
 "nbformat": 4,
 "nbformat_minor": 5
}
